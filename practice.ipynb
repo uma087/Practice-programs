{
 "cells": [
  {
   "cell_type": "code",
   "execution_count": 14,
   "id": "2a4bdbe7-1605-4042-ab9a-2364727ef5ee",
   "metadata": {},
   "outputs": [
    {
     "name": "stdout",
     "output_type": "stream",
     "text": [
      "1\n"
     ]
    }
   ],
   "source": [
    " ## wap to find how many times substring \"sai\" appears in the given string without using predefined functions\n",
    "s=\"sai is a good developer.sai is writer\"\n",
    "c = 0\n",
    "l = s.split()\n",
    "for i in l:\n",
    "    if i == \"sai\":\n",
    "        c += 1\n",
    " print(c)\n"
   ]
  },
  {
   "cell_type": "code",
   "execution_count": 17,
   "id": "a9e5b16d-4c7e-4582-bed3-c9f113ecc731",
   "metadata": {},
   "outputs": [
    {
     "data": {
      "text/plain": [
       "21"
      ]
     },
     "execution_count": 17,
     "metadata": {},
     "output_type": "execute_result"
    }
   ],
   "source": [
    "# find min & max value from given list\n",
    "l = [11,19,21,10,9,14]\n",
    "l.sort()\n",
    "l[0]\n",
    "l[-1]"
   ]
  },
  {
   "cell_type": "code",
   "execution_count": 18,
   "id": "67811965-14c4-4f26-9e86-b7a38dbf1b98",
   "metadata": {},
   "outputs": [
    {
     "name": "stdout",
     "output_type": "stream",
     "text": [
      "9\n",
      "21\n"
     ]
    }
   ],
   "source": [
    "# find min & max value from given list\n",
    "l = [11,19,21,10,9,14]\n",
    "min_val = l[0]\n",
    "max_val = l[0]\n",
    "for i in l:\n",
    "    if i<min_val:\n",
    "        min_val=i\n",
    "    if i>max_val:\n",
    "        max_val=i\n",
    "print(min_val)\n",
    "print(max_val)\n",
    "        "
   ]
  },
  {
   "cell_type": "code",
   "execution_count": 26,
   "id": "c0581292-2192-4a8a-b49d-e44e1ba45d3e",
   "metadata": {},
   "outputs": [
    {
     "name": "stdout",
     "output_type": "stream",
     "text": [
      "[14, 9, 10, 21, 19, 11]\n"
     ]
    }
   ],
   "source": [
    "# wap to reverse the given list without using slicing method\n",
    "l = [11,19,21,10,9,14]\n",
    "nl=[]\n",
    "for i in range(len(l)):\n",
    "    r=l.pop()\n",
    "    nl.append(r)\n",
    "print(nl)\n",
    "\n",
    "    \n"
   ]
  },
  {
   "cell_type": "code",
   "execution_count": 29,
   "id": "7891d6a3-2dd6-4490-89a2-95ee135a5cd2",
   "metadata": {},
   "outputs": [
    {
     "name": "stdout",
     "output_type": "stream",
     "text": [
      "ecmtPTo\n"
     ]
    }
   ],
   "source": [
    "# wap to find all lower case letters from the given string and join as new string\n",
    "s=\"WeLcOmEtOPyTHoN\"\n",
    "a=s[1::2]\n",
    "print(a)"
   ]
  },
  {
   "cell_type": "code",
   "execution_count": 2,
   "id": "896650a9-5930-4513-9346-17d76d99d250",
   "metadata": {},
   "outputs": [
    {
     "name": "stdout",
     "output_type": "stream",
     "text": [
      "[14, 9, 10, 21, 19, 11]\n"
     ]
    }
   ],
   "source": [
    "l = [11,19,21,10,9,14]\n",
    "print(l[::-1])"
   ]
  },
  {
   "cell_type": "code",
   "execution_count": 4,
   "id": "c8d9a862-bfb8-4955-99d4-4015a8c01c04",
   "metadata": {
    "scrolled": true
   },
   "outputs": [
    {
     "name": "stdout",
     "output_type": "stream",
     "text": [
      "[11, 19, 21, 10, 9, 14, 66]\n"
     ]
    }
   ],
   "source": [
    "l = [11,19,21,10,9,14]\n",
    "l.append(66)\n",
    "print(l)"
   ]
  },
  {
   "cell_type": "code",
   "execution_count": 10,
   "id": "d9c34c56-8da3-4ca9-86cc-8f8b7f2aceb5",
   "metadata": {},
   "outputs": [
    {
     "name": "stdout",
     "output_type": "stream",
     "text": [
      "18\n"
     ]
    }
   ],
   "source": [
    "## wap to find digits in the given string and find their sum\n",
    "s = \"harshitha12_96@gmail.com\"\n",
    "s1=0\n",
    "for i in s:\n",
    "   if i.isdigit():\n",
    "       s1=s1+int(i)\n",
    "print(s1)\n",
    "    \n",
    "    \n"
   ]
  },
  {
   "cell_type": "code",
   "execution_count": 15,
   "id": "b6143d42-7456-41a4-b1a8-3562aec82e32",
   "metadata": {},
   "outputs": [
    {
     "name": "stdout",
     "output_type": "stream",
     "text": [
      "{'name': 'priya', 'idno': 101, 'age': 25, 'fees': 35000.0, 'location': 'karnataka'}\n"
     ]
    }
   ],
   "source": [
    "## wap to rename key is it as location\n",
    "d={\"name\":\"priya\",\"idno\":101,\"age\":25,\"city\":\"karnataka\",\"fees\":35000.0}\n",
    "x=d.pop(\"city\")\n",
    "d[\"location\"]=x\n",
    "print(d)\n"
   ]
  },
  {
   "cell_type": "code",
   "execution_count": 19,
   "id": "25f2ea69-e40b-4a98-8976-a5da7f6d5a22",
   "metadata": {},
   "outputs": [
    {
     "name": "stdout",
     "output_type": "stream",
     "text": [
      "{'priya': 'name', 101: 'idno', 25: 'age', 35000.0: 'fees', 'karnataka': 'location'}\n"
     ]
    }
   ],
   "source": [
    "new_dict = {}\n",
    "for x,y in d.items():\n",
    "    new_dict[y] = x\n",
    "print(new_dict)"
   ]
  },
  {
   "cell_type": "code",
   "execution_count": 23,
   "id": "f25d1f33-0b71-46d4-9427-d69219439c0f",
   "metadata": {},
   "outputs": [
    {
     "name": "stdout",
     "output_type": "stream",
     "text": [
      "x= 10 y= 90\n"
     ]
    }
   ],
   "source": [
    "## swapping of 2 numbers\n",
    "x = 90\n",
    "y = 10\n",
    "x,y=y,x\n",
    "print(\"x=\",x,\"y=\",y)"
   ]
  },
  {
   "cell_type": "code",
   "execution_count": 1,
   "id": "249b1be2-14ca-40a9-80f8-b2d25710c6ea",
   "metadata": {},
   "outputs": [
    {
     "name": "stdout",
     "output_type": "stream",
     "text": [
      "before:\n",
      "x= 50\n",
      "y= 48\n",
      "z= 35\n",
      "agter swapping:\n",
      "x= 48\n",
      "y= 35\n",
      "z= 50\n"
     ]
    }
   ],
   "source": [
    "x = 50\n",
    "y = 48\n",
    "z = 35\n",
    "print(\"before:\")\n",
    "print(\"x=\",x)\n",
    "print(\"y=\",y)\n",
    "print(\"z=\",z)\n",
    "a = x\n",
    "x = y\n",
    "y = z\n",
    "z = a\n",
    "print(\"agter swapping:\")\n",
    "print(\"x=\",x)\n",
    "print(\"y=\",y)\n",
    "print(\"z=\",z)\n"
   ]
  },
  {
   "cell_type": "code",
   "execution_count": 26,
   "id": "a1b05921-2b75-49c8-8134-6bb0ac051cc6",
   "metadata": {},
   "outputs": [
    {
     "name": "stdin",
     "output_type": "stream",
     "text": [
      "enter value: 5\n"
     ]
    },
    {
     "name": "stdout",
     "output_type": "stream",
     "text": [
      "5\n"
     ]
    },
    {
     "name": "stdin",
     "output_type": "stream",
     "text": [
      "enter value: 5\n"
     ]
    },
    {
     "name": "stdout",
     "output_type": "stream",
     "text": [
      "5\n"
     ]
    },
    {
     "name": "stdin",
     "output_type": "stream",
     "text": [
      "enter value: 5\n"
     ]
    },
    {
     "name": "stdout",
     "output_type": "stream",
     "text": [
      "5\n"
     ]
    },
    {
     "name": "stdin",
     "output_type": "stream",
     "text": [
      "enter value: 5\n"
     ]
    },
    {
     "name": "stdout",
     "output_type": "stream",
     "text": [
      "5\n"
     ]
    },
    {
     "name": "stdin",
     "output_type": "stream",
     "text": [
      "enter value: 5\n"
     ]
    },
    {
     "name": "stdout",
     "output_type": "stream",
     "text": [
      "5\n",
      "enter the numbers: 1\n"
     ]
    }
   ],
   "source": [
    "prod = 1\n",
    "for i in range(5):\n",
    "    val = int(input(\"enter value:\"))\n",
    "    print(val)\n",
    "print(\"enter the numbers:\",prod)"
   ]
  },
  {
   "cell_type": "markdown",
   "id": "d5fef7f7-b836-4b8b-98ba-4391476b85b0",
   "metadata": {},
   "source": [
    "### lambda functions"
   ]
  },
  {
   "cell_type": "code",
   "execution_count": 27,
   "id": "ddb8d720-7b43-424b-a27f-229e17fc9805",
   "metadata": {},
   "outputs": [
    {
     "name": "stdout",
     "output_type": "stream",
     "text": [
      "5544\n"
     ]
    }
   ],
   "source": [
    "z=lambda a,b:a*b\n",
    "print(z(56,99))"
   ]
  },
  {
   "cell_type": "code",
   "execution_count": 31,
   "id": "a3e92e84-ab96-4ba0-8c86-c216e5646071",
   "metadata": {},
   "outputs": [
    {
     "name": "stdout",
     "output_type": "stream",
     "text": [
      "[1, 8, 27, 64, 125]\n"
     ]
    }
   ],
   "source": [
    "l = [1,2,3,4,5]                ##mapping()\n",
    "print(list(map(lambda z:z**3,l)))"
   ]
  },
  {
   "cell_type": "code",
   "execution_count": 32,
   "id": "b612a19d-96a3-4c1f-9174-b89483cbd2b6",
   "metadata": {},
   "outputs": [
    {
     "name": "stdout",
     "output_type": "stream",
     "text": [
      "[2, 4]\n"
     ]
    }
   ],
   "source": [
    "print(list(filter(lambda z:z%2==0,l)))   ##filter()"
   ]
  },
  {
   "cell_type": "code",
   "execution_count": 7,
   "id": "d0e6fb70-9edf-4ee6-908e-0ed4d640d916",
   "metadata": {},
   "outputs": [
    {
     "name": "stdout",
     "output_type": "stream",
     "text": [
      "My name is sai. My age is 45\n"
     ]
    }
   ],
   "source": [
    "name = \"sai\"\n",
    "age = 45\n",
    "def display():\n",
    "    print(f\"My name is {name}. My age is {age}\")\n",
    "   \n",
    "display()"
   ]
  },
  {
   "cell_type": "code",
   "execution_count": null,
   "id": "e0bc0343-bf63-4d6d-85b0-5ef661f7bd0e",
   "metadata": {},
   "outputs": [],
   "source": []
  }
 ],
 "metadata": {
  "kernelspec": {
   "display_name": "Python [conda env:base] *",
   "language": "python",
   "name": "conda-base-py"
  },
  "language_info": {
   "codemirror_mode": {
    "name": "ipython",
    "version": 3
   },
   "file_extension": ".py",
   "mimetype": "text/x-python",
   "name": "python",
   "nbconvert_exporter": "python",
   "pygments_lexer": "ipython3",
   "version": "3.13.5"
  }
 },
 "nbformat": 4,
 "nbformat_minor": 5
}
