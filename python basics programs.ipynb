{
 "cells": [
  {
   "cell_type": "markdown",
   "id": "6d0e460d-0a25-4add-9c29-5fb4bef94161",
   "metadata": {},
   "source": [
    "# type casting"
   ]
  },
  {
   "cell_type": "code",
   "execution_count": 1,
   "id": "e8896c79-c673-4175-a12a-0d67da1de1e8",
   "metadata": {
    "scrolled": true
   },
   "outputs": [
    {
     "name": "stdout",
     "output_type": "stream",
     "text": [
      "78.9 <class 'float'>\n",
      "78 <class 'int'>\n",
      "78.9 <class 'str'>\n",
      "True <class 'bool'>\n",
      "(78.9+0j) <class 'complex'>\n",
      "(78.9+5j) <class 'complex'>\n"
     ]
    }
   ],
   "source": [
    "# float-integer,string,boolean,complex\n",
    "age=78.90\n",
    "print(age,type(age))\n",
    "#int()\n",
    "x=int(age)\n",
    "print(x,type(x))\n",
    "#str()\n",
    "x1=str(age)\n",
    "print(x1,type(x1))\n",
    "#bool()\n",
    "x2=bool(age)\n",
    "print(x2,type(x2))\n",
    "#complex()\n",
    "a=5\n",
    "x3=complex(age)\n",
    "print(x3,type(x3))\n",
    "z4=complex(age,a)\n",
    "print(z4,type(z4))\n"
   ]
  },
  {
   "cell_type": "markdown",
   "id": "e4887f48-1353-43fc-b5a7-296f17b2ad9c",
   "metadata": {},
   "source": [
    "# assignment operators"
   ]
  },
  {
   "cell_type": "code",
   "execution_count": 6,
   "id": "a17ca564-252d-4359-a5e0-dde1475ec420",
   "metadata": {},
   "outputs": [
    {
     "name": "stdout",
     "output_type": "stream",
     "text": [
      "90\n",
      "95\n",
      "80\n",
      "240\n",
      "60.0\n",
      "12.0\n",
      "5.0\n",
      "390625.0\n"
     ]
    }
   ],
   "source": [
    " x = 90 #x is a variable,=is an assignment operator ,90 is a value\n",
    "print(x)\n",
    "#adding 5 to x and assign result to x\n",
    "x += 5 #x = x+5\n",
    "print(x)\n",
    "#subtract 15 from x and assign to x\n",
    "x -= 15 #x = x-15\n",
    "print(x)\n",
    "#multiple *= 3 from x and assign to x\n",
    "x *= 3 #x*3\n",
    "print(x)\n",
    "#float division /= 4 from x and assign to x\n",
    "x /= 4 #/4\n",
    "print(x)\n",
    "#floor division //= 5 from x and assign to x\n",
    "x //= 5 #//5\n",
    "print(x)\n",
    "#modolus division %=7 from x and assign to x \n",
    "x %= 7 #%7\n",
    "print(x)\n",
    "#power division **=8 from x and assign to x\n",
    "x **= 8 #**8\n",
    "print(x)\n"
   ]
  },
  {
   "cell_type": "markdown",
   "id": "8bc52b38-c676-4496-b727-6a22057fc7e1",
   "metadata": {},
   "source": [
    "# relational operators"
   ]
  },
  {
   "cell_type": "code",
   "execution_count": 7,
   "id": "c81b74cc-7da3-4424-b2d4-2dd25253c1a2",
   "metadata": {},
   "outputs": [
    {
     "name": "stdout",
     "output_type": "stream",
     "text": [
      "True\n",
      "True\n",
      "False\n"
     ]
    }
   ],
   "source": [
    "a = 90\n",
    "b = 100\n",
    "c = 90\n",
    "print(a <= b)\n",
    "print(a <= c)\n",
    "print(b <= a)"
   ]
  },
  {
   "cell_type": "code",
   "execution_count": 8,
   "id": "26de97eb-68ae-435e-a72b-2f3618dfaac4",
   "metadata": {},
   "outputs": [
    {
     "name": "stdout",
     "output_type": "stream",
     "text": [
      "False\n",
      "True\n",
      "True\n"
     ]
    }
   ],
   "source": [
    "print(a >= b)\n",
    "print(a >= c)\n",
    "print(b >= a)"
   ]
  },
  {
   "cell_type": "code",
   "execution_count": 2,
   "id": "c78ae01e-d3ed-40da-bf84-d584837e2c0c",
   "metadata": {},
   "outputs": [
    {
     "name": "stdout",
     "output_type": "stream",
     "text": [
      "1 x 2 = 2\n",
      "2 x 2 = 4\n",
      "3 x 2 = 6\n",
      "4 x 2 = 8\n",
      "5 x 2 = 10\n",
      "6 x 2 = 12\n",
      "7 x 2 = 14\n",
      "8 x 2 = 16\n",
      "9 x 2 = 18\n",
      "10 x 2 = 20\n"
     ]
    }
   ],
   "source": [
    "multiplier = 2\n",
    "counter = 1\n",
    "while counter <= 10:\n",
    "    result = counter * multiplier\n",
    "    print(f\"{counter} x {multiplier} = {result}\")\n",
    "    counter += 1"
   ]
  },
  {
   "cell_type": "code",
   "execution_count": 1,
   "id": "70ff3606-59d2-4f80-a955-802f0943aaa7",
   "metadata": {},
   "outputs": [
    {
     "name": "stdout",
     "output_type": "stream",
     "text": [
      "1 x 1 = 1\n",
      "2 x 2 = 4\n",
      "3 x 3 = 9\n",
      "4 x 4 = 16\n",
      "5 x 5 = 25\n",
      "6 x 6 = 36\n",
      "7 x 7 = 49\n",
      "8 x 8 = 64\n",
      "9 x 9 = 81\n",
      "10 x 10 = 100\n"
     ]
    }
   ],
   "source": [
    "row = 1\n",
    "while row <= 1:\n",
    "    column = 1\n",
    "    while column <= 10:\n",
    "        result = row * column\n",
    "        print(f\"{row} x {column} = {result}\")\n",
    "        column += 1\n",
    "        row += 1"
   ]
  },
  {
   "cell_type": "code",
   "execution_count": 2,
   "id": "58cc6ec7-add5-4848-aaae-d3213f32a168",
   "metadata": {},
   "outputs": [
    {
     "name": "stdout",
     "output_type": "stream",
     "text": [
      "100 <class 'int'>\n",
      "100.0 <class 'float'>\n",
      "(100+0j) <class 'complex'>\n",
      "(100+10j) <class 'complex'>\n"
     ]
    }
   ],
   "source": [
    "## integer,float,complex,boolean,string\n",
    "num=100\n",
    "print(num,type(num))\n",
    "a=float(num)\n",
    "print(a,type(a))\n",
    "b=complex(num)\n",
    "print(b,type(b))\n",
    "c=10\n",
    "b1=complex(num,c)\n",
    "print(b1,type(b1))"
   ]
  },
  {
   "cell_type": "code",
   "execution_count": null,
   "id": "31badae6-45fd-4d84-b80c-548a4eda77b0",
   "metadata": {},
   "outputs": [],
   "source": []
  }
 ],
 "metadata": {
  "kernelspec": {
   "display_name": "Python [conda env:base] *",
   "language": "python",
   "name": "conda-base-py"
  },
  "language_info": {
   "codemirror_mode": {
    "name": "ipython",
    "version": 3
   },
   "file_extension": ".py",
   "mimetype": "text/x-python",
   "name": "python",
   "nbconvert_exporter": "python",
   "pygments_lexer": "ipython3",
   "version": "3.13.5"
  }
 },
 "nbformat": 4,
 "nbformat_minor": 5
}
