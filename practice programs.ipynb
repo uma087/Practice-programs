{
 "cells": [
  {
   "cell_type": "markdown",
   "id": "2db8843d-0cf8-4568-883c-15877e09027e",
   "metadata": {},
   "source": [
    "## f string"
   ]
  },
  {
   "cell_type": "code",
   "execution_count": 9,
   "id": "b8a51c07-80e2-4ad3-a7bc-371e99099bef",
   "metadata": {},
   "outputs": [],
   "source": [
    "#print(f\"addition:{add}\\nsubtration:{sub}\")"
   ]
  },
  {
   "cell_type": "code",
   "execution_count": 7,
   "id": "33c48c9f-2240-440a-9d96-f4f11a7d56f7",
   "metadata": {},
   "outputs": [
    {
     "name": "stdout",
     "output_type": "stream",
     "text": [
      "1 x 2 = 2\n",
      "2 x 2 = 4\n",
      "3 x 2 = 6\n",
      "4 x 2 = 8\n",
      "5 x 2 = 10\n",
      "6 x 2 = 12\n",
      "7 x 2 = 14\n",
      "8 x 2 = 16\n",
      "9 x 2 = 18\n",
      "10 x 2 = 20\n"
     ]
    }
   ],
   "source": [
    "multiplier = 2\n",
    "counter = 1\n",
    "while counter <= 10:\n",
    "    result = counter * multiplier\n",
    "    print(f\"{counter} x {multiplier} = {result}\")\n",
    "    counter += 1"
   ]
  },
  {
   "cell_type": "code",
   "execution_count": 12,
   "id": "388b24b4-60f5-4b7e-8145-291936aa5342",
   "metadata": {},
   "outputs": [
    {
     "name": "stdout",
     "output_type": "stream",
     "text": [
      "90\n",
      "95\n",
      "80\n",
      "240\n",
      "60.0\n",
      "12.0\n",
      "5.0\n",
      "390625.0\n"
     ]
    }
   ],
   "source": [
    " x = 90 #x is a variable,=is an assignment operator ,90 is a value\n",
    "print(x)\n",
    "#adding 5 to x and assign result to x\n",
    "x += 5 #x = x+5\n",
    "print(x)\n",
    "#subtract 15 from x and assign to x\n",
    "x -= 15 #x = x-15\n",
    "print(x)\n",
    "#multiple *= 3 from x and assign to x\n",
    "x *= 3 #x*3\n",
    "print(x)\n",
    "#float division /= 4 from x and assign to x\n",
    "x /= 4 #/4\n",
    "print(x)\n",
    "#floor division //= 5 from x and assign to x\n",
    "x //= 5 #//5\n",
    "print(x)\n",
    "#modolus division %=7 from x and assign to x \n",
    "x %= 7 #%7\n",
    "print(x)\n",
    "#power division **=8 from x and assign to x\n",
    "x **= 8 #**8\n",
    "print(x)\n"
   ]
  },
  {
   "cell_type": "markdown",
   "id": "cdf7b424-14c0-4cf8-ba1d-16dabcc29d6b",
   "metadata": {},
   "source": [
    "# f string"
   ]
  },
  {
   "cell_type": "code",
   "execution_count": 5,
   "id": "3d2463d8-de86-4d3a-98fe-6a0ae6ed5e82",
   "metadata": {},
   "outputs": [
    {
     "name": "stdout",
     "output_type": "stream",
     "text": [
      "1 x 1 = 1\n",
      "2 x 2 = 4\n",
      "3 x 3 = 9\n",
      "4 x 4 = 16\n",
      "5 x 5 = 25\n",
      "6 x 6 = 36\n",
      "7 x 7 = 49\n",
      "8 x 8 = 64\n",
      "9 x 9 = 81\n",
      "10 x 10 = 100\n"
     ]
    }
   ],
   "source": [
    "row = 1\n",
    "while row <= 1:\n",
    "    column = 1\n",
    "    while column <= 10:\n",
    "        result = row * column\n",
    "        print(f\"{row} x {column} = {result}\")\n",
    "        column += 1\n",
    "        row += 1"
   ]
  },
  {
   "cell_type": "markdown",
   "id": "edcea87d-3a5c-4743-8262-14c7d945b458",
   "metadata": {},
   "source": [
    "## for loop program"
   ]
  },
  {
   "cell_type": "code",
   "execution_count": 5,
   "id": "86c4a74c-50ce-4ba1-801b-0b5dd9b6c8a4",
   "metadata": {},
   "outputs": [
    {
     "name": "stdin",
     "output_type": "stream",
     "text": [
      "Enter a number to generate the multiplication table: 5\n"
     ]
    },
    {
     "name": "stdout",
     "output_type": "stream",
     "text": [
      "multiplication table for 5:\n",
      "5 x 1 = 5 \n",
      "5 x 2 = 10 \n",
      "5 x 3 = 15 \n",
      "5 x 4 = 20 \n",
      "5 x 5 = 25 \n",
      "5 x 6 = 30 \n",
      "5 x 7 = 35 \n",
      "5 x 8 = 40 \n",
      "5 x 9 = 45 \n",
      "5 x 10 = 50 \n"
     ]
    }
   ],
   "source": [
    "num = int(input(\"Enter a number to generate the multiplication table:\"))\n",
    "print(f\"multiplication table for {num}:\")\n",
    "for i in range(1,11):\n",
    "    result=num * i\n",
    "    print(f\"{num} x {i} = {result} \")\n",
    "   "
   ]
  },
  {
   "cell_type": "code",
   "execution_count": 6,
   "id": "d590a2fc-7f60-4816-a5f4-6b5598c90089",
   "metadata": {},
   "outputs": [
    {
     "name": "stdin",
     "output_type": "stream",
     "text": [
      "Enter a number to generate the multiplication table: 3\n"
     ]
    },
    {
     "name": "stdout",
     "output_type": "stream",
     "text": [
      "multiplication table for 3:\n",
      "3 x 1 = 3\n",
      "3 x 2 = 6\n",
      "3 x 3 = 9\n",
      "3 x 4 = 12\n",
      "3 x 5 = 15\n",
      "3 x 6 = 18\n",
      "3 x 7 = 21\n",
      "3 x 8 = 24\n",
      "3 x 9 = 27\n",
      "3 x 10 = 30\n"
     ]
    }
   ],
   "source": [
    "num = int(input(\"Enter a number to generate the multiplication table:\"))\n",
    "i=1\n",
    "print(f\"multiplication table for {num}:\")\n",
    "while i<=10:\n",
    "    result=num*i\n",
    "    print(f\"{num} x {i} = {result}\")\n",
    "    i+=1"
   ]
  },
  {
   "cell_type": "code",
   "execution_count": 1,
   "id": "ea7c8d0d-f563-4042-814e-76e06330409e",
   "metadata": {},
   "outputs": [
    {
     "name": "stdout",
     "output_type": "stream",
     "text": [
      "bharath\n"
     ]
    }
   ],
   "source": [
    "name=\"bharath\"\n",
    "print(name)"
   ]
  },
  {
   "cell_type": "markdown",
   "id": "612a3429-e003-4308-a2fb-25688b03b576",
   "metadata": {},
   "source": [
    "## operations in list/tuple/string"
   ]
  },
  {
   "cell_type": "markdown",
   "id": "0ef7b5d4-3f08-45b1-b0b7-a284d70b1885",
   "metadata": {},
   "source": [
    "#### (list) repetation()"
   ]
  },
  {
   "cell_type": "code",
   "execution_count": 3,
   "id": "f8d8bf40-9d9a-4617-bfdf-28b8e18f44fc",
   "metadata": {},
   "outputs": [
    {
     "name": "stdout",
     "output_type": "stream",
     "text": [
      "['uma', 107]\n",
      "['uma', 107, 'uma', 107, 'uma', 107, 'uma', 107, 'uma', 107, 'uma', 107, 'uma', 107, 'uma', 107]\n"
     ]
    }
   ],
   "source": [
    "a1=[\"uma\",107]\n",
    "#repeat () given the list 8 times -[minus returns the new list]\n",
    "print(a1)\n",
    "na1=a1*8\n",
    "print(na1)"
   ]
  },
  {
   "cell_type": "markdown",
   "id": "8ffd6809-a12e-49d8-9a89-04aa65d3fee6",
   "metadata": {},
   "source": [
    "### iteration() -for loop (iteration is long line given by one by one)"
   ]
  },
  {
   "cell_type": "code",
   "execution_count": 11,
   "id": "5b9b19d4-9364-493c-b9c2-385e4295a950",
   "metadata": {},
   "outputs": [
    {
     "name": "stdout",
     "output_type": "stream",
     "text": [
      "uma\n",
      "107\n",
      "uma\n",
      "107\n",
      "uma\n",
      "107\n",
      "uma\n",
      "107\n",
      "uma\n",
      "107\n",
      "uma\n",
      "107\n",
      "uma\n",
      "107\n",
      "uma\n",
      "107\n"
     ]
    }
   ],
   "source": [
    "for i in na1: \n",
    " print(i)"
   ]
  },
  {
   "cell_type": "markdown",
   "id": "bdbab1b3-cc69-4fcc-a6c9-d51ddb25baef",
   "metadata": {},
   "source": [
    "### end=\" \" is used by side printing output"
   ]
  },
  {
   "cell_type": "code",
   "execution_count": 14,
   "id": "c37ecbc3-4e16-4887-ba28-d362973c9598",
   "metadata": {},
   "outputs": [
    {
     "name": "stdout",
     "output_type": "stream",
     "text": [
      "uma 107 uma 107 uma 107 uma 107 uma 107 uma 107 uma 107 uma 107 "
     ]
    }
   ],
   "source": [
    "for i in na1: \n",
    " print(i,end=\" \")"
   ]
  },
  {
   "cell_type": "markdown",
   "id": "de191e42-f57b-40e9-9899-6cf65e8e70a4",
   "metadata": {},
   "source": [
    "### tuple repetation()"
   ]
  },
  {
   "cell_type": "code",
   "execution_count": 21,
   "id": "a2b5b610-caa5-4962-a805-f12514c3517b",
   "metadata": {},
   "outputs": [
    {
     "name": "stdout",
     "output_type": "stream",
     "text": [
      "harish\n",
      "107\n",
      "66\n",
      "mano\n",
      "hindhu\n",
      "('harish', 107, 66, 'mano', 'hindhu', 'harish', 107, 66, 'mano', 'hindhu', 'harish', 107, 66, 'mano', 'hindhu', 'harish', 107, 66, 'mano', 'hindhu', 'harish', 107, 66, 'mano', 'hindhu') "
     ]
    }
   ],
   "source": [
    "t= \"harish\",107,66,'mano','hindhu'\n",
    "#for()\n",
    "for a in t:\n",
    "    print(a)\n",
    "##repetation ()                              # end=''optional\n",
    "dt=t*5\n",
    "print(dt,end=\" \")"
   ]
  },
  {
   "cell_type": "markdown",
   "id": "2a2b969e-1d0e-4d2c-8ca2-030261b2e656",
   "metadata": {},
   "source": [
    "### concatenation()-+"
   ]
  },
  {
   "cell_type": "code",
   "execution_count": 22,
   "id": "bfd08a10-a8f3-4e4b-a4cf-c82e86c95345",
   "metadata": {},
   "outputs": [
    {
     "name": "stdout",
     "output_type": "stream",
     "text": [
      "('harish', 107, 66, 'mano', 'hindhu', 'maha', 99)\n"
     ]
    }
   ],
   "source": [
    "t= \"harish\",107,66,'mano','hindhu'\n",
    "t1=\"maha\",99\n",
    "#concatenation-+\n",
    "nt1=t+t1\n",
    "print(nt1)"
   ]
  },
  {
   "cell_type": "markdown",
   "id": "174746a9-cc87-4392-ba5d-ab6cd5b0e5db",
   "metadata": {},
   "source": [
    "### membership operator-in"
   ]
  },
  {
   "cell_type": "code",
   "execution_count": 24,
   "id": "0e4d12ba-7e80-4f14-a615-5a713f955eb9",
   "metadata": {},
   "outputs": [
    {
     "name": "stdout",
     "output_type": "stream",
     "text": [
      "False\n",
      "True\n"
     ]
    }
   ],
   "source": [
    "x=[\"uma\",\"hari\",\"maha\",\"govind\",\"subbu\"]\n",
    "#mani exists\n",
    "print(\"mani\" in x)\n",
    "print(\"uma\" in x)"
   ]
  },
  {
   "cell_type": "code",
   "execution_count": 1,
   "id": "4b7e3b2f-dbcd-4a18-9bb9-b0cab1b52556",
   "metadata": {},
   "outputs": [
    {
     "name": "stdout",
     "output_type": "stream",
     "text": [
      "4\n"
     ]
    }
   ],
   "source": [
    "x=[1,2,3]\n",
    "x.append([4,5])\n",
    "print(len(x))"
   ]
  },
  {
   "cell_type": "markdown",
   "id": "7952480d-f02c-454e-801b-baf6077f6bbb",
   "metadata": {},
   "source": [
    "## append() -is adding the values inlast element"
   ]
  },
  {
   "cell_type": "code",
   "execution_count": 9,
   "id": "0e96b792-a3bc-4ac4-92bc-552a6dee8018",
   "metadata": {},
   "outputs": [
    {
     "name": "stdout",
     "output_type": "stream",
     "text": [
      "original: ['hello', 'how', 'are']\n",
      "after adding: ['hello', 'how', 'are', 'you']\n"
     ]
    }
   ],
   "source": [
    "s=['hello','how','are']\n",
    "print('original:',s)              #only list[] is worked-notuple\n",
    "s.append(\"you\")\n",
    "print('after adding:',s)"
   ]
  },
  {
   "cell_type": "markdown",
   "id": "c8a05fe0-979c-4745-b343-a25823d08839",
   "metadata": {},
   "source": [
    "### functions"
   ]
  },
  {
   "cell_type": "markdown",
   "id": "a961fdcf-ad85-4e95-8308-836dc9a0f245",
   "metadata": {},
   "source": [
    "## types of variables"
   ]
  },
  {
   "cell_type": "code",
   "execution_count": 8,
   "id": "5c614adc-796f-44ac-8b94-3cb1607afef3",
   "metadata": {},
   "outputs": [],
   "source": [
    "#global variable\n",
    "#local vriable\n",
    "#defult arguments are also called method over loading and \n"
   ]
  },
  {
   "cell_type": "code",
   "execution_count": 4,
   "id": "94127dc0-8502-4b9d-8851-05fb03994a1d",
   "metadata": {},
   "outputs": [
    {
     "name": "stdout",
     "output_type": "stream",
     "text": [
      "c\n",
      "('python', 'c')\n"
     ]
    }
   ],
   "source": [
    "##4.variable/arbitary arg\n",
    "def courses(names):\n",
    "    print(names)\n",
    "courses(\"c\")\n",
    "def courses(*names):\n",
    "    print(names)\n",
    "courses(\"python\",\"c\")"
   ]
  },
  {
   "cell_type": "code",
   "execution_count": 5,
   "id": "0ac8eea2-8226-41b2-80c5-b75eacabdaa9",
   "metadata": {},
   "outputs": [
    {
     "name": "stdout",
     "output_type": "stream",
     "text": [
      "89\n"
     ]
    }
   ],
   "source": [
    "### return keyword adding the numbers\n",
    "def add(a,b):\n",
    "    print(a+b)  ##return\n",
    "add(45,44)"
   ]
  },
  {
   "cell_type": "code",
   "execution_count": 6,
   "id": "4d726d40-e7ab-4215-a611-4db22b7beb60",
   "metadata": {},
   "outputs": [
    {
     "data": {
      "text/plain": [
       "89"
      ]
     },
     "execution_count": 6,
     "metadata": {},
     "output_type": "execute_result"
    }
   ],
   "source": [
    "def add(a,b):\n",
    "    return a+b  ##return\n",
    "add(45,44)"
   ]
  },
  {
   "cell_type": "code",
   "execution_count": 7,
   "id": "0ac4f3b8-0f42-4760-977b-c92757d2f5bc",
   "metadata": {},
   "outputs": [
    {
     "name": "stdout",
     "output_type": "stream",
     "text": [
      "120\n"
     ]
    }
   ],
   "source": [
    "def fact(n):\n",
    "    if n==0:\n",
    "        return 1\n",
    "    else:\n",
    "        return n*fact(n-1)\n",
    "print(fact(5))"
   ]
  },
  {
   "cell_type": "code",
   "execution_count": 14,
   "id": "4e44e5bc-730c-4ffc-99d8-082888475b9b",
   "metadata": {},
   "outputs": [
    {
     "name": "stdout",
     "output_type": "stream",
     "text": [
      "21\n"
     ]
    }
   ],
   "source": [
    "for i in range(2,0,20):\n",
    "    i+=20\n",
    "print(i)\n"
   ]
  },
  {
   "cell_type": "code",
   "execution_count": 11,
   "id": "4d6f512b-9b66-492e-bc83-de5844c2851a",
   "metadata": {},
   "outputs": [
    {
     "name": "stdout",
     "output_type": "stream",
     "text": [
      "the sum of first 10 even natural numbers is:20\n"
     ]
    }
   ],
   "source": [
    "sum_even = 0\n",
    "for i in range(1,11):   #loop 10 times to get the first 10 even numbers\n",
    "   even_number = 2 * i\n",
    "sum_even += even_number\n",
    "print(f\"the sum of first 10 even natural numbers is:{sum_even}\")"
   ]
  },
  {
   "cell_type": "code",
   "execution_count": 12,
   "id": "ba8dc729-e608-4fa1-ba5f-0f34a72a3973",
   "metadata": {},
   "outputs": [
    {
     "name": "stdout",
     "output_type": "stream",
     "text": [
      "2\n",
      "4\n",
      "6\n",
      "8\n",
      "10\n",
      "12\n",
      "14\n",
      "16\n",
      "18\n",
      "20\n",
      "Sum of 1st 10 even numbers = 110\n"
     ]
    }
   ],
   "source": [
    "s=0; n=2\n",
    "for i in range(1,11):\n",
    "    print(n)\n",
    "    s=s+n\n",
    "    n=n+2\n",
    "\n",
    "print('Sum of 1st 10 even numbers = %d' %(s))"
   ]
  },
  {
   "cell_type": "code",
   "execution_count": 6,
   "id": "d411a35f-8bb2-43b1-9c87-9977127ffce2",
   "metadata": {},
   "outputs": [
    {
     "name": "stdout",
     "output_type": "stream",
     "text": [
      "110\n"
     ]
    }
   ],
   "source": [
    "sum = 0\n",
    "for i in range(2,21,2):\n",
    "    sum += i\n",
    "print(sum)\n",
    "    "
   ]
  },
  {
   "cell_type": "code",
   "execution_count": 4,
   "id": "b4ef37a4-f1e0-4a7b-af8d-9e7f82f910ac",
   "metadata": {
    "scrolled": true
   },
   "outputs": [
    {
     "name": "stdout",
     "output_type": "stream",
     "text": [
      "100 90 80 70 60 50 40 30 20 10 "
     ]
    }
   ],
   "source": [
    "## print series 100,90,80,70,60,50,40,30,20,10 using while loop\n",
    "num = 100\n",
    "while num >= 10:\n",
    "    print(num, end=\" \")\n",
    "    num -= 10\n"
   ]
  },
  {
   "cell_type": "code",
   "execution_count": 10,
   "id": "a2e8672f-2ef8-4545-90c3-c51937596803",
   "metadata": {},
   "outputs": [
    {
     "name": "stdout",
     "output_type": "stream",
     "text": [
      "sum of first 10 even natural numbers is: 55\n"
     ]
    }
   ],
   "source": [
    "n = 1\n",
    "s = 2\n",
    "a = 0\n",
    "while n <= 10:\n",
    "    a += n\n",
    "    s += 2\n",
    "    n += 1\n",
    "print(\"sum of first 10 even natural numbers is:\",a)"
   ]
  },
  {
   "cell_type": "code",
   "execution_count": 2,
   "id": "5adc8c3e-a4a2-496a-8c94-14e6d370a47f",
   "metadata": {},
   "outputs": [
    {
     "name": "stdout",
     "output_type": "stream",
     "text": [
      "110\n"
     ]
    }
   ],
   "source": [
    "## sum of first 10 even natural number using whileloop\n",
    "sum = 0\n",
    "i = 2\n",
    "while i <= 20:\n",
    "    sum += i\n",
    "    i += 2\n",
    "print(sum)"
   ]
  },
  {
   "cell_type": "markdown",
   "id": "0127c081-d6a4-4365-a1d6-6c088719e9d8",
   "metadata": {},
   "source": [
    "## range()"
   ]
  },
  {
   "cell_type": "code",
   "execution_count": 1,
   "id": "ccd152fd-d866-461f-9c24-41a39a6947a7",
   "metadata": {},
   "outputs": [
    {
     "name": "stdout",
     "output_type": "stream",
     "text": [
      "[1, 2, 3, 4, 5, 6, 7, 8, 9, 10]\n"
     ]
    }
   ],
   "source": [
    "## create a value of list start which numbers 1-10\n",
    "##[1,2,3,4,5,6,7,8,9,10]\n",
    "l = list(range(1,11,1))\n",
    "print(l)"
   ]
  },
  {
   "cell_type": "code",
   "execution_count": 3,
   "id": "3bfeb35d-448b-4eff-b62e-4225217eff1a",
   "metadata": {},
   "outputs": [
    {
     "name": "stdout",
     "output_type": "stream",
     "text": [
      "(5, 4, 3, 2, 1)\n"
     ]
    }
   ],
   "source": [
    "x = tuple(range(5,0,-1))\n",
    "print(x)"
   ]
  },
  {
   "cell_type": "code",
   "execution_count": 4,
   "id": "090fa2d1-302f-4e47-8005-791c0380f6b8",
   "metadata": {},
   "outputs": [
    {
     "name": "stdout",
     "output_type": "stream",
     "text": [
      "[8, 7, 6, 5, 4, 3, 2, 1]\n"
     ]
    }
   ],
   "source": [
    "x = list(range(8,0,-1))\n",
    "print(x)"
   ]
  },
  {
   "cell_type": "markdown",
   "id": "0f3925a0-6a1b-4d34-9cab-6f9138ae3da1",
   "metadata": {},
   "source": [
    "## for loop"
   ]
  },
  {
   "cell_type": "code",
   "execution_count": 7,
   "id": "c475c68e-939f-4796-88bc-140f50956b04",
   "metadata": {},
   "outputs": [],
   "source": [
    "# syntax of for loop is \n",
    "# for v_n in range()"
   ]
  },
  {
   "cell_type": "code",
   "execution_count": 10,
   "id": "88759881-1919-4119-adc0-54db6ea4d94a",
   "metadata": {},
   "outputs": [
    {
     "name": "stdout",
     "output_type": "stream",
     "text": [
      "1 python\n",
      "2 python\n",
      "3 python\n",
      "4 python\n",
      "5 python\n",
      "6 python\n",
      "7 python\n",
      "8 python\n",
      "9 python\n",
      "10 python\n"
     ]
    }
   ],
   "source": [
    "for i in range(1,11,1):\n",
    "    print(i,\"python\")"
   ]
  },
  {
   "cell_type": "code",
   "execution_count": 12,
   "id": "2a45eef5-b330-4ae0-b0e3-83c155344ce9",
   "metadata": {},
   "outputs": [
    {
     "name": "stdout",
     "output_type": "stream",
     "text": [
      "2 daddymummy\n",
      "4 daddymummy\n",
      "6 daddymummy\n",
      "8 daddymummy\n",
      "10 daddymummy\n"
     ]
    }
   ],
   "source": [
    "for x in range(2,12,2):\n",
    "    print(x,\"daddymummy\")"
   ]
  },
  {
   "cell_type": "code",
   "execution_count": 14,
   "id": "849367ac-650d-4791-94c1-59f0bef21779",
   "metadata": {},
   "outputs": [
    {
     "name": "stdout",
     "output_type": "stream",
     "text": [
      "u daddymummy\n",
      "m daddymummy\n",
      "a daddymummy\n",
      "b daddymummy\n",
      "h daddymummy\n",
      "a daddymummy\n",
      "r daddymummy\n",
      "a daddymummy\n",
      "t daddymummy\n",
      "h daddymummy\n"
     ]
    }
   ],
   "source": [
    "a = \"umabharath\"\n",
    "for c in a:\n",
    "    print(c,\"daddymummy\")"
   ]
  },
  {
   "cell_type": "markdown",
   "id": "b640db87-0d5a-4d11-bc6e-b64caa11b86f",
   "metadata": {},
   "source": [
    "## jump statements"
   ]
  },
  {
   "cell_type": "code",
   "execution_count": 16,
   "id": "3d4434fb-f57f-4101-bf56-b2dd3bca7b39",
   "metadata": {},
   "outputs": [
    {
     "name": "stdout",
     "output_type": "stream",
     "text": [
      "1 2 3 4 5 6 7 "
     ]
    }
   ],
   "source": [
    "#break,continue,pass\n",
    "for i in range(1,15,1):\n",
    "    if i==8:\n",
    "        break\n",
    "    print(i,end=\" \")"
   ]
  },
  {
   "cell_type": "code",
   "execution_count": 4,
   "id": "ad330162-125f-4a5d-9e5d-d42daafcc7f6",
   "metadata": {},
   "outputs": [
    {
     "name": "stdout",
     "output_type": "stream",
     "text": [
      "1 3 4 5 6 7 9 10 11 12 13 14 15 16 17 18 19 20 "
     ]
    }
   ],
   "source": [
    "i = 1\n",
    "while i<21:\n",
    "    if i == 2 or i == 8:        ##assignment\n",
    "        i += 1\n",
    "        continue\n",
    "    print(i,end=\" \")\n",
    "    i += 1\n",
    "        "
   ]
  },
  {
   "cell_type": "code",
   "execution_count": 5,
   "id": "e22afef8-f5b2-4662-a976-c19d78bec23b",
   "metadata": {},
   "outputs": [
    {
     "name": "stdout",
     "output_type": "stream",
     "text": [
      "1 2 3 4 5 6 7 "
     ]
    }
   ],
   "source": [
    "i = 1\n",
    "while i<15:\n",
    "    if i == 8:\n",
    "        i += 1\n",
    "        break\n",
    "    print(i,end=\" \")\n",
    "    i += 1\n",
    "        "
   ]
  },
  {
   "cell_type": "code",
   "execution_count": 3,
   "id": "c40cf758-0698-4cd2-aaa4-d282df3ebfbe",
   "metadata": {},
   "outputs": [],
   "source": [
    "for i in range(1,21,1):\n",
    "    if i == 2 or i == 8:\n",
    "        continue                         ##assignment\n",
    "        print(i,end=\" \")"
   ]
  },
  {
   "cell_type": "code",
   "execution_count": 11,
   "id": "fa509c3a-bcc4-4b76-bd3f-12c51cdacae1",
   "metadata": {},
   "outputs": [
    {
     "name": "stdout",
     "output_type": "stream",
     "text": [
      "set() <class 'set'>\n"
     ]
    }
   ],
   "source": [
    "se = set()\n",
    "print(se,type(se))"
   ]
  },
  {
   "cell_type": "code",
   "execution_count": 15,
   "id": "f3ea2b19-a872-4594-887a-aadf4c6532de",
   "metadata": {},
   "outputs": [
    {
     "name": "stdout",
     "output_type": "stream",
     "text": [
      "102\n",
      "after removing,set: {'uma', 'bharath', 88, 'mani'}\n"
     ]
    }
   ],
   "source": [
    "se = {\"mani\",\"uma\",102,88,\"bharath\"}\n",
    "print(se.pop())\n",
    "print(\"after removing,set:\",se)"
   ]
  },
  {
   "cell_type": "code",
   "execution_count": 1,
   "id": "00611f7b-1bf8-4004-9330-be14d631a9e7",
   "metadata": {},
   "outputs": [
    {
     "name": "stdout",
     "output_type": "stream",
     "text": [
      "None\n",
      "[]\n"
     ]
    }
   ],
   "source": [
    "l=[\"harish\",\"kiran\",\"tarun\",\"harish\",\"jai\",\"jamuna\",\"harish\"]\n",
    "print(l.clear())\n",
    "print(l)"
   ]
  },
  {
   "cell_type": "code",
   "execution_count": 11,
   "id": "c78b69b9-a8cd-41e8-a803-121faa6c4087",
   "metadata": {},
   "outputs": [
    {
     "name": "stdin",
     "output_type": "stream",
     "text": [
      "Enter the no of rows:  5\n"
     ]
    },
    {
     "name": "stdout",
     "output_type": "stream",
     "text": [
      "5 5 5 5 5 5 5 5 5 \n",
      "5 4 4 4 4 4 4 4 5 \n",
      "5 4 3 3 3 3 3 4 5 \n",
      "5 4 3 2 2 2 3 4 5 \n",
      "5 4 3 2 1 2 3 4 5 \n",
      "5 4 3 2 2 2 3 4 5 \n",
      "5 4 3 3 3 3 3 4 5 \n",
      "5 4 4 4 4 4 4 4 5 \n",
      "5 5 5 5 5 5 5 5 5 \n"
     ]
    }
   ],
   "source": [
    "n = int(input(\"Enter the no of rows: \"))\n",
    "size = 2 * n - 1\n",
    "for i in range(size):\n",
    "    for j in range(size):\n",
    "        top = i\n",
    "        left= j\n",
    "        bottom = size - 1 - i\n",
    "        right =  size - 1 - j\n",
    "        min_dist = min(top, left, bottom, right)\n",
    "        print(n - min_dist, end=\" \")\n",
    "    print()"
   ]
  },
  {
   "cell_type": "code",
   "execution_count": 1,
   "id": "d7be1434-8e68-41a2-b90d-67651b621f28",
   "metadata": {},
   "outputs": [
    {
     "name": "stdin",
     "output_type": "stream",
     "text": [
      "enter the no of rows: 5\n"
     ]
    },
    {
     "name": "stdout",
     "output_type": "stream",
     "text": [
      "5 5 5 5 5 5 5 5 5 \n",
      "5 4 4 4 4 4 4 4 5 \n",
      "5 4 3 3 3 3 3 4 5 \n",
      "5 4 3 2 2 2 3 4 5 \n",
      "5 4 3 2 1 2 3 4 5 \n",
      "5 4 3 2 2 2 3 4 5 \n",
      "5 4 3 3 3 3 3 4 5 \n",
      "5 4 4 4 4 4 4 4 5 \n",
      "5 5 5 5 5 5 5 5 5 \n"
     ]
    }
   ],
   "source": [
    "n = int(input(\"enter the no of rows:\"))\n",
    "size = 2*n-1\n",
    "for i in range(size):\n",
    "    for j in range(size):\n",
    "        value=max(abs(i-(n-1)),abs(j-(n-1)))+1\n",
    "        print(value,end=\" \")\n",
    "    print()"
   ]
  },
  {
   "cell_type": "code",
   "execution_count": 2,
   "id": "3dac7bfd-b444-483a-9f4a-7f5dee894e98",
   "metadata": {},
   "outputs": [
    {
     "name": "stdout",
     "output_type": "stream",
     "text": [
      "AAAAA\n",
      "BBBBB\n",
      "CCCCC\n",
      "DDDDD\n",
      "EEEEE\n"
     ]
    }
   ],
   "source": [
    "for c in \"ABCDE\":\n",
    "    print(c * 5)"
   ]
  },
  {
   "cell_type": "code",
   "execution_count": 5,
   "id": "c8b255c0-be27-4ac9-ae78-360b6fe38c96",
   "metadata": {},
   "outputs": [
    {
     "name": "stdout",
     "output_type": "stream",
     "text": [
      "A A A A A \n",
      "A B B B A \n",
      "A C C C A \n",
      "A D D D A \n",
      "A E E E A \n"
     ]
    }
   ],
   "source": [
    "for i in range(5):\n",
    "    for j in range(5):\n",
    "        if j == 0 or j == 4:\n",
    "            print(\"A\",end=\" \")\n",
    "        else:\n",
    "            print(chr(65 + i),end=\" \")\n",
    "    print()"
   ]
  },
  {
   "cell_type": "code",
   "execution_count": 8,
   "id": "ecb28c07-d318-47b8-9149-889f4e8ffb81",
   "metadata": {},
   "outputs": [
    {
     "name": "stdout",
     "output_type": "stream",
     "text": [
      "A A A A A \n",
      "A B B B A \n",
      "A C C C A \n",
      "A D D D A \n",
      "A E E E A \n",
      "A A A A A \n"
     ]
    }
   ],
   "source": [
    "for i in range(6):\n",
    "    for j in range(5):\n",
    "        if i ==0 or i == 5:\n",
    "            print(\"A\",end=\" \")\n",
    "        elif j == 0 or j == 4:\n",
    "            print(\"A\",end=\" \")\n",
    "        else:\n",
    "            print(chr(65 + i),end=\" \")\n",
    "    print()"
   ]
  },
  {
   "cell_type": "code",
   "execution_count": 15,
   "id": "af2b099b-5b4d-4143-ba6d-17e77ee56ed8",
   "metadata": {},
   "outputs": [
    {
     "name": "stdin",
     "output_type": "stream",
     "text": [
      "enter the n of rows: 8\n"
     ]
    },
    {
     "name": "stdout",
     "output_type": "stream",
     "text": [
      "8 8 8 8 8 8 8 8 8 8 8 8 8 8 8 \n",
      "8 7 7 7 7 7 7 7 7 7 7 7 7 7 8 \n",
      "8 7 6 6 6 6 6 6 6 6 6 6 6 7 8 \n",
      "8 7 6 5 5 5 5 5 5 5 5 5 6 7 8 \n",
      "8 7 6 5 4 4 4 4 4 4 4 5 6 7 8 \n",
      "8 7 6 5 4 3 3 3 3 3 4 5 6 7 8 \n",
      "8 7 6 5 4 3 2 2 2 3 4 5 6 7 8 \n",
      "8 7 6 5 4 3 2 1 2 3 4 5 6 7 8 \n",
      "8 7 6 5 4 3 2 2 2 3 4 5 6 7 8 \n",
      "8 7 6 5 4 3 3 3 3 3 4 5 6 7 8 \n",
      "8 7 6 5 4 4 4 4 4 4 4 5 6 7 8 \n",
      "8 7 6 5 5 5 5 5 5 5 5 5 6 7 8 \n",
      "8 7 6 6 6 6 6 6 6 6 6 6 6 7 8 \n",
      "8 7 7 7 7 7 7 7 7 7 7 7 7 7 8 \n",
      "8 8 8 8 8 8 8 8 8 8 8 8 8 8 8 \n"
     ]
    }
   ],
   "source": [
    "n=int(input(\"enter the n of rows:\"))\n",
    "size=2*n-1\n",
    "for i in range(size):\n",
    "    for j in range(size):\n",
    "        value=max(abs(i-(n-1)),abs(j-(n-1)))+1\n",
    "        print(value,end=\" \")\n",
    "    print()"
   ]
  },
  {
   "cell_type": "code",
   "execution_count": null,
   "id": "500716a3-e0e8-4ad5-9254-d6daf74fcf21",
   "metadata": {},
   "outputs": [],
   "source": []
  }
 ],
 "metadata": {
  "kernelspec": {
   "display_name": "Python [conda env:base] *",
   "language": "python",
   "name": "conda-base-py"
  },
  "language_info": {
   "codemirror_mode": {
    "name": "ipython",
    "version": 3
   },
   "file_extension": ".py",
   "mimetype": "text/x-python",
   "name": "python",
   "nbconvert_exporter": "python",
   "pygments_lexer": "ipython3",
   "version": "3.13.5"
  }
 },
 "nbformat": 4,
 "nbformat_minor": 5
}
